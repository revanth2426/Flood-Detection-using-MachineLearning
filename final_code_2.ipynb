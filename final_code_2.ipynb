{
 "cells": [
  {
   "cell_type": "code",
   "execution_count": 1,
   "metadata": {
    "id": "h3fkcHZ09mJ2"
   },
   "outputs": [],
   "source": [
    "import pandas as pd               #data_processing\n",
    "import numpy as np                #linear_algebra\n",
    "import matplotlib.pyplot as plt  \n",
    "%matplotlib inline"
   ]
  },
  {
   "cell_type": "markdown",
   "metadata": {},
   "source": [
    "PANDAS : Pandas is defined as an open-source library that provides high-performance data manipulation in Python.\n",
    "\n",
    "NUMPY  : NumPy is a general-purpose array-processing package. It provides a high-performance multidimensional array object, and          tools for working with these arrays. It is the fundamental package for scientific computing with Python. It is open-            source software.\n",
    "\n",
    "PYPLOT: Pyplot is a Matplotlib module which provides a MATLAB-like interface. Matplotlib is designed to be as usable as MATLAB,         with the ability to use Python and the advantage of being free and open-source. Each pyplot function makes some change           to a figure\n",
    "\n",
    "Pandas is built on top of the Numpy package, means Numpy is required for operating the Pandas."
   ]
  },
  {
   "cell_type": "markdown",
   "metadata": {
    "id": "TeA39sXDFP3n"
   },
   "source": [
    "# Upload Rainfall Data "
   ]
  },
  {
   "cell_type": "code",
   "execution_count": 2,
   "metadata": {
    "colab": {
     "base_uri": "https://localhost:8080/",
     "height": 90
    },
    "executionInfo": {
     "elapsed": 61354,
     "status": "ok",
     "timestamp": 1670145207320,
     "user": {
      "displayName": "Revanth",
      "userId": "11846981122706152895"
     },
     "user_tz": -330
    },
    "id": "NUHJhBwlFK_a",
    "outputId": "b5b3aba4-e0b5-4bdd-d215-6132a3dad1d0",
    "scrolled": true
   },
   "outputs": [
    {
     "name": "stdout",
     "output_type": "stream",
     "text": [
      "User uploaded file \"Date/Time\" with length 78848 bytes\n",
      "User uploaded file \"Current rainfall (mm)\" with length 78848 bytes\n",
      "User uploaded file \"Cumulative rainfall (mm)\" with length 78848 bytes\n"
     ]
    }
   ],
   "source": [
    "uploaded = pd.read_csv(\"rainfall_data.csv\")\n",
    "\n",
    "for fn in uploaded.keys():\n",
    "  print('User uploaded file \"{name}\" with length {length} bytes'.format(\n",
    "      name=fn, length=len(uploaded[fn])))"
   ]
  },
  {
   "cell_type": "code",
   "execution_count": 3,
   "metadata": {
    "id": "GMbWHdex9mKD"
   },
   "outputs": [],
   "source": [
    "df_rain = pd.read_csv(\"rainfall_data.csv\")"
   ]
  },
  {
   "cell_type": "markdown",
   "metadata": {},
   "source": [
    "HEAD : Pandas head() method is used to return top n (5 by default) rows of a data frame or series."
   ]
  },
  {
   "cell_type": "code",
   "execution_count": 4,
   "metadata": {
    "colab": {
     "base_uri": "https://localhost:8080/",
     "height": 206
    },
    "executionInfo": {
     "elapsed": 675,
     "status": "ok",
     "timestamp": 1670145215085,
     "user": {
      "displayName": "Revanth",
      "userId": "11846981122706152895"
     },
     "user_tz": -330
    },
    "id": "c7yZWFWb9mKJ",
    "outputId": "6b7b14ff-8cb3-4451-f469-320713f18424"
   },
   "outputs": [
    {
     "data": {
      "text/html": [
       "<div>\n",
       "<style scoped>\n",
       "    .dataframe tbody tr th:only-of-type {\n",
       "        vertical-align: middle;\n",
       "    }\n",
       "\n",
       "    .dataframe tbody tr th {\n",
       "        vertical-align: top;\n",
       "    }\n",
       "\n",
       "    .dataframe thead th {\n",
       "        text-align: right;\n",
       "    }\n",
       "</style>\n",
       "<table border=\"1\" class=\"dataframe\">\n",
       "  <thead>\n",
       "    <tr style=\"text-align: right;\">\n",
       "      <th></th>\n",
       "      <th>Date/Time</th>\n",
       "      <th>Current rainfall (mm)</th>\n",
       "      <th>Cumulative rainfall (mm)</th>\n",
       "    </tr>\n",
       "  </thead>\n",
       "  <tbody>\n",
       "    <tr>\n",
       "      <th>0</th>\n",
       "      <td>2018-12-02 18:00:00</td>\n",
       "      <td>0.0</td>\n",
       "      <td>0.0</td>\n",
       "    </tr>\n",
       "    <tr>\n",
       "      <th>1</th>\n",
       "      <td>2018-12-02 17:00:00</td>\n",
       "      <td>0.0</td>\n",
       "      <td>0.0</td>\n",
       "    </tr>\n",
       "    <tr>\n",
       "      <th>2</th>\n",
       "      <td>2018-12-02 16:00:00</td>\n",
       "      <td>0.0</td>\n",
       "      <td>0.0</td>\n",
       "    </tr>\n",
       "    <tr>\n",
       "      <th>3</th>\n",
       "      <td>2018-12-02 15:00:00</td>\n",
       "      <td>0.0</td>\n",
       "      <td>0.0</td>\n",
       "    </tr>\n",
       "    <tr>\n",
       "      <th>4</th>\n",
       "      <td>2018-12-02 14:00:00</td>\n",
       "      <td>0.0</td>\n",
       "      <td>0.0</td>\n",
       "    </tr>\n",
       "    <tr>\n",
       "      <th>...</th>\n",
       "      <td>...</td>\n",
       "      <td>...</td>\n",
       "      <td>...</td>\n",
       "    </tr>\n",
       "    <tr>\n",
       "      <th>78843</th>\n",
       "      <td>2009-12-01 04:00:00</td>\n",
       "      <td>0.0</td>\n",
       "      <td>0.2</td>\n",
       "    </tr>\n",
       "    <tr>\n",
       "      <th>78844</th>\n",
       "      <td>2009-12-01 03:00:00</td>\n",
       "      <td>0.0</td>\n",
       "      <td>0.2</td>\n",
       "    </tr>\n",
       "    <tr>\n",
       "      <th>78845</th>\n",
       "      <td>2009-12-01 02:00:00</td>\n",
       "      <td>0.0</td>\n",
       "      <td>0.2</td>\n",
       "    </tr>\n",
       "    <tr>\n",
       "      <th>78846</th>\n",
       "      <td>2009-12-01 01:00:00</td>\n",
       "      <td>0.0</td>\n",
       "      <td>0.2</td>\n",
       "    </tr>\n",
       "    <tr>\n",
       "      <th>78847</th>\n",
       "      <td>2009-12-01 00:00:00</td>\n",
       "      <td>0.0</td>\n",
       "      <td>0.2</td>\n",
       "    </tr>\n",
       "  </tbody>\n",
       "</table>\n",
       "<p>78848 rows × 3 columns</p>\n",
       "</div>"
      ],
      "text/plain": [
       "                 Date/Time  Current rainfall (mm)  Cumulative rainfall (mm)\n",
       "0      2018-12-02 18:00:00                    0.0                       0.0\n",
       "1      2018-12-02 17:00:00                    0.0                       0.0\n",
       "2      2018-12-02 16:00:00                    0.0                       0.0\n",
       "3      2018-12-02 15:00:00                    0.0                       0.0\n",
       "4      2018-12-02 14:00:00                    0.0                       0.0\n",
       "...                    ...                    ...                       ...\n",
       "78843  2009-12-01 04:00:00                    0.0                       0.2\n",
       "78844  2009-12-01 03:00:00                    0.0                       0.2\n",
       "78845  2009-12-01 02:00:00                    0.0                       0.2\n",
       "78846  2009-12-01 01:00:00                    0.0                       0.2\n",
       "78847  2009-12-01 00:00:00                    0.0                       0.2\n",
       "\n",
       "[78848 rows x 3 columns]"
      ]
     },
     "execution_count": 4,
     "metadata": {},
     "output_type": "execute_result"
    }
   ],
   "source": [
    "df_rain"
   ]
  },
  {
   "cell_type": "markdown",
   "metadata": {},
   "source": [
    "SHAPE : we will use an attribute called shape which returns a tuple, the elements of the tuple give the lengths of the \n",
    "    corresponding array dimensions."
   ]
  },
  {
   "cell_type": "code",
   "execution_count": 5,
   "metadata": {
    "colab": {
     "base_uri": "https://localhost:8080/"
    },
    "executionInfo": {
     "elapsed": 736,
     "status": "ok",
     "timestamp": 1670145217339,
     "user": {
      "displayName": "Revanth",
      "userId": "11846981122706152895"
     },
     "user_tz": -330
    },
    "id": "Rg3TKwyW9mKX",
    "outputId": "af40e4ee-9254-4864-c7d3-2f60a8974d6c"
   },
   "outputs": [
    {
     "data": {
      "text/plain": [
       "Date/Time                   0\n",
       "Current rainfall (mm)       4\n",
       "Cumulative rainfall (mm)    1\n",
       "dtype: int64"
      ]
     },
     "execution_count": 5,
     "metadata": {},
     "output_type": "execute_result"
    }
   ],
   "source": [
    "df_rain.isnull().sum()"
   ]
  },
  {
   "cell_type": "code",
   "execution_count": 6,
   "metadata": {},
   "outputs": [],
   "source": [
    "numeric_columns = ['Current rainfall (mm)', 'Cumulative rainfall (mm)']\n",
    "df_filled_mean = df_rain[numeric_columns].fillna(df_rain[numeric_columns].mean())\n",
    "df_rain = pd.concat([df_rain['Date/Time'], df_filled_mean], axis=1)"
   ]
  },
  {
   "cell_type": "code",
   "execution_count": 7,
   "metadata": {},
   "outputs": [
    {
     "data": {
      "text/plain": [
       "Date/Time                   0\n",
       "Current rainfall (mm)       0\n",
       "Cumulative rainfall (mm)    0\n",
       "dtype: int64"
      ]
     },
     "execution_count": 7,
     "metadata": {},
     "output_type": "execute_result"
    }
   ],
   "source": [
    "df_rain.isnull().sum()"
   ]
  },
  {
   "cell_type": "markdown",
   "metadata": {},
   "source": [
    "DESCRIBE:Pandas describe() is used to view some basic statistical details like percentile, mean, std etc. of a data \n",
    "    frame or a series of numeric values."
   ]
  },
  {
   "cell_type": "code",
   "execution_count": 8,
   "metadata": {
    "colab": {
     "base_uri": "https://localhost:8080/",
     "height": 300
    },
    "executionInfo": {
     "elapsed": 651,
     "status": "ok",
     "timestamp": 1670145219865,
     "user": {
      "displayName": "Revanth",
      "userId": "11846981122706152895"
     },
     "user_tz": -330
    },
    "id": "Mg5d-beM9mKh",
    "outputId": "a3fe5a28-36f0-41d8-91f3-f79219789a50"
   },
   "outputs": [
    {
     "data": {
      "text/html": [
       "<div>\n",
       "<style scoped>\n",
       "    .dataframe tbody tr th:only-of-type {\n",
       "        vertical-align: middle;\n",
       "    }\n",
       "\n",
       "    .dataframe tbody tr th {\n",
       "        vertical-align: top;\n",
       "    }\n",
       "\n",
       "    .dataframe thead th {\n",
       "        text-align: right;\n",
       "    }\n",
       "</style>\n",
       "<table border=\"1\" class=\"dataframe\">\n",
       "  <thead>\n",
       "    <tr style=\"text-align: right;\">\n",
       "      <th></th>\n",
       "      <th>Current rainfall (mm)</th>\n",
       "      <th>Cumulative rainfall (mm)</th>\n",
       "    </tr>\n",
       "  </thead>\n",
       "  <tbody>\n",
       "    <tr>\n",
       "      <th>count</th>\n",
       "      <td>78848.000000</td>\n",
       "      <td>78848.000000</td>\n",
       "    </tr>\n",
       "    <tr>\n",
       "      <th>mean</th>\n",
       "      <td>0.049206</td>\n",
       "      <td>0.586580</td>\n",
       "    </tr>\n",
       "    <tr>\n",
       "      <th>std</th>\n",
       "      <td>0.765277</td>\n",
       "      <td>2.770198</td>\n",
       "    </tr>\n",
       "    <tr>\n",
       "      <th>min</th>\n",
       "      <td>0.000000</td>\n",
       "      <td>0.000000</td>\n",
       "    </tr>\n",
       "    <tr>\n",
       "      <th>25%</th>\n",
       "      <td>0.000000</td>\n",
       "      <td>0.000000</td>\n",
       "    </tr>\n",
       "    <tr>\n",
       "      <th>50%</th>\n",
       "      <td>0.000000</td>\n",
       "      <td>0.000000</td>\n",
       "    </tr>\n",
       "    <tr>\n",
       "      <th>75%</th>\n",
       "      <td>0.000000</td>\n",
       "      <td>0.000000</td>\n",
       "    </tr>\n",
       "    <tr>\n",
       "      <th>max</th>\n",
       "      <td>110.000000</td>\n",
       "      <td>111.400000</td>\n",
       "    </tr>\n",
       "  </tbody>\n",
       "</table>\n",
       "</div>"
      ],
      "text/plain": [
       "       Current rainfall (mm)  Cumulative rainfall (mm)\n",
       "count           78848.000000              78848.000000\n",
       "mean                0.049206                  0.586580\n",
       "std                 0.765277                  2.770198\n",
       "min                 0.000000                  0.000000\n",
       "25%                 0.000000                  0.000000\n",
       "50%                 0.000000                  0.000000\n",
       "75%                 0.000000                  0.000000\n",
       "max               110.000000                111.400000"
      ]
     },
     "execution_count": 8,
     "metadata": {},
     "output_type": "execute_result"
    }
   ],
   "source": [
    "df_rain.describe()  "
   ]
  },
  {
   "cell_type": "raw",
   "metadata": {},
   "source": [
    " PLOT : The plot() function is used to draw points (markers) in a diagram."
   ]
  },
  {
   "cell_type": "markdown",
   "metadata": {},
   "source": [
    "# Points are plotted Rainfall w.r.t date"
   ]
  },
  {
   "cell_type": "code",
   "execution_count": 9,
   "metadata": {
    "colab": {
     "base_uri": "https://localhost:8080/",
     "height": 295
    },
    "executionInfo": {
     "elapsed": 719,
     "status": "ok",
     "timestamp": 1670145222006,
     "user": {
      "displayName": "Revanth",
      "userId": "11846981122706152895"
     },
     "user_tz": -330
    },
    "id": "yoS0P7O-9mLH",
    "outputId": "31fe8a01-1371-4251-c12a-f2e3b18f892e",
    "scrolled": false
   },
   "outputs": [
    {
     "data": {
      "image/png": "[encoded data removed]",
      "text/plain": [
       "<Figure size 432x288 with 1 Axes>"
      ]
     },
     "metadata": {
      "needs_background": "light"
     },
     "output_type": "display_data"
    }
   ],
   "source": [
    "df_rain.plot(x='Date/Time', y='Cumulative rainfall (mm)', style='o')  \n",
    "\n",
    "plt.title('Rainfall')  \n",
    "plt.xlabel('Date')  \n",
    "plt.ylabel('Rainfall in mm')  \n",
    "plt.show()  "
   ]
  },
  {
   "cell_type": "markdown",
   "metadata": {
    "id": "8X6B9Gy5FYG4"
   },
   "source": [
    "# Upload River Data"
   ]
  },
  {
   "cell_type": "code",
   "execution_count": 10,
   "metadata": {
    "colab": {
     "base_uri": "https://localhost:8080/",
     "height": 90
    },
    "executionInfo": {
     "elapsed": 44334,
     "status": "ok",
     "timestamp": 1670145269523,
     "user": {
      "displayName": "Revanth",
      "userId": "11846981122706152895"
     },
     "user_tz": -330
    },
    "id": "ZP8o1OTtFXc2",
    "outputId": "98fdc556-9ee4-4f6f-cb0a-3fbb8fc89f2c"
   },
   "outputs": [
    {
     "name": "stdout",
     "output_type": "stream",
     "text": [
      "User uploaded file \"Date/Time\" with length 78822 bytes\n",
      "User uploaded file \"Level (m)\" with length 78822 bytes\n"
     ]
    }
   ],
   "source": [
    "#from google.colab import files\n",
    "\n",
    "#uploaded = files.upload()\n",
    "uploaded = pd.read_csv(\"river_hourly_data.csv\")\n",
    "\n",
    "for fn in uploaded.keys():\n",
    "  print('User uploaded file \"{name}\" with length {length} bytes'.format(\n",
    "      name=fn, length=len(uploaded[fn])))"
   ]
  },
  {
   "cell_type": "code",
   "execution_count": 11,
   "metadata": {
    "id": "hzPK6PJk9mLN"
   },
   "outputs": [],
   "source": [
    "df_river = pd.read_csv(\"river_hourly_data.csv\")"
   ]
  },
  {
   "cell_type": "code",
   "execution_count": 12,
   "metadata": {
    "colab": {
     "base_uri": "https://localhost:8080/",
     "height": 206
    },
    "executionInfo": {
     "elapsed": 3,
     "status": "ok",
     "timestamp": 1670145275817,
     "user": {
      "displayName": "Revanth",
      "userId": "11846981122706152895"
     },
     "user_tz": -330
    },
    "id": "-p-MCno59mLX",
    "outputId": "74a69333-7b1e-4c09-8342-a8bd48f50888"
   },
   "outputs": [
    {
     "data": {
      "text/html": [
       "<div>\n",
       "<style scoped>\n",
       "    .dataframe tbody tr th:only-of-type {\n",
       "        vertical-align: middle;\n",
       "    }\n",
       "\n",
       "    .dataframe tbody tr th {\n",
       "        vertical-align: top;\n",
       "    }\n",
       "\n",
       "    .dataframe thead th {\n",
       "        text-align: right;\n",
       "    }\n",
       "</style>\n",
       "<table border=\"1\" class=\"dataframe\">\n",
       "  <thead>\n",
       "    <tr style=\"text-align: right;\">\n",
       "      <th></th>\n",
       "      <th>Date/Time</th>\n",
       "      <th>Level (m)</th>\n",
       "    </tr>\n",
       "  </thead>\n",
       "  <tbody>\n",
       "    <tr>\n",
       "      <th>0</th>\n",
       "      <td>2018-12-02 17:00:00</td>\n",
       "      <td>1.61</td>\n",
       "    </tr>\n",
       "    <tr>\n",
       "      <th>1</th>\n",
       "      <td>2018-12-02 16:00:00</td>\n",
       "      <td>1.61</td>\n",
       "    </tr>\n",
       "    <tr>\n",
       "      <th>2</th>\n",
       "      <td>2018-12-02 15:00:00</td>\n",
       "      <td>1.62</td>\n",
       "    </tr>\n",
       "    <tr>\n",
       "      <th>3</th>\n",
       "      <td>2018-12-02 14:00:00</td>\n",
       "      <td>1.63</td>\n",
       "    </tr>\n",
       "    <tr>\n",
       "      <th>4</th>\n",
       "      <td>2018-12-02 13:00:00</td>\n",
       "      <td>1.63</td>\n",
       "    </tr>\n",
       "    <tr>\n",
       "      <th>...</th>\n",
       "      <td>...</td>\n",
       "      <td>...</td>\n",
       "    </tr>\n",
       "    <tr>\n",
       "      <th>78817</th>\n",
       "      <td>2009-12-02 04:00:00</td>\n",
       "      <td>1.39</td>\n",
       "    </tr>\n",
       "    <tr>\n",
       "      <th>78818</th>\n",
       "      <td>2009-12-02 03:00:00</td>\n",
       "      <td>1.39</td>\n",
       "    </tr>\n",
       "    <tr>\n",
       "      <th>78819</th>\n",
       "      <td>2009-12-02 02:00:00</td>\n",
       "      <td>1.40</td>\n",
       "    </tr>\n",
       "    <tr>\n",
       "      <th>78820</th>\n",
       "      <td>2009-12-02 01:00:00</td>\n",
       "      <td>1.40</td>\n",
       "    </tr>\n",
       "    <tr>\n",
       "      <th>78821</th>\n",
       "      <td>2009-12-02 00:00:00</td>\n",
       "      <td>1.40</td>\n",
       "    </tr>\n",
       "  </tbody>\n",
       "</table>\n",
       "<p>78822 rows × 2 columns</p>\n",
       "</div>"
      ],
      "text/plain": [
       "                 Date/Time  Level (m)\n",
       "0      2018-12-02 17:00:00       1.61\n",
       "1      2018-12-02 16:00:00       1.61\n",
       "2      2018-12-02 15:00:00       1.62\n",
       "3      2018-12-02 14:00:00       1.63\n",
       "4      2018-12-02 13:00:00       1.63\n",
       "...                    ...        ...\n",
       "78817  2009-12-02 04:00:00       1.39\n",
       "78818  2009-12-02 03:00:00       1.39\n",
       "78819  2009-12-02 02:00:00       1.40\n",
       "78820  2009-12-02 01:00:00       1.40\n",
       "78821  2009-12-02 00:00:00       1.40\n",
       "\n",
       "[78822 rows x 2 columns]"
      ]
     },
     "execution_count": 12,
     "metadata": {},
     "output_type": "execute_result"
    }
   ],
   "source": [
    "df_river"
   ]
  },
  {
   "cell_type": "code",
   "execution_count": 13,
   "metadata": {
    "colab": {
     "base_uri": "https://localhost:8080/"
    },
    "executionInfo": {
     "elapsed": 408,
     "status": "ok",
     "timestamp": 1670145278964,
     "user": {
      "displayName": "Revanth",
      "userId": "11846981122706152895"
     },
     "user_tz": -330
    },
    "id": "Vhh1yGSb9mLf",
    "outputId": "edd70b37-ac0e-4e0f-bc9e-50e31059eca9"
   },
   "outputs": [
    {
     "data": {
      "text/plain": [
       "Date/Time    0\n",
       "Level (m)    0\n",
       "dtype: int64"
      ]
     },
     "execution_count": 13,
     "metadata": {},
     "output_type": "execute_result"
    }
   ],
   "source": [
    "df_river.isnull().sum()"
   ]
  },
  {
   "cell_type": "code",
   "execution_count": 14,
   "metadata": {
    "colab": {
     "base_uri": "https://localhost:8080/",
     "height": 300
    },
    "executionInfo": {
     "elapsed": 595,
     "status": "ok",
     "timestamp": 1670145281162,
     "user": {
      "displayName": "Revanth",
      "userId": "11846981122706152895"
     },
     "user_tz": -330
    },
    "id": "932T3Ogr9mLu",
    "outputId": "88c52219-ffcc-447b-9853-c435a8c8565e"
   },
   "outputs": [
    {
     "data": {
      "text/html": [
       "<div>\n",
       "<style scoped>\n",
       "    .dataframe tbody tr th:only-of-type {\n",
       "        vertical-align: middle;\n",
       "    }\n",
       "\n",
       "    .dataframe tbody tr th {\n",
       "        vertical-align: top;\n",
       "    }\n",
       "\n",
       "    .dataframe thead th {\n",
       "        text-align: right;\n",
       "    }\n",
       "</style>\n",
       "<table border=\"1\" class=\"dataframe\">\n",
       "  <thead>\n",
       "    <tr style=\"text-align: right;\">\n",
       "      <th></th>\n",
       "      <th>Level (m)</th>\n",
       "    </tr>\n",
       "  </thead>\n",
       "  <tbody>\n",
       "    <tr>\n",
       "      <th>count</th>\n",
       "      <td>78822.000000</td>\n",
       "    </tr>\n",
       "    <tr>\n",
       "      <th>mean</th>\n",
       "      <td>1.453701</td>\n",
       "    </tr>\n",
       "    <tr>\n",
       "      <th>std</th>\n",
       "      <td>0.113859</td>\n",
       "    </tr>\n",
       "    <tr>\n",
       "      <th>min</th>\n",
       "      <td>0.000000</td>\n",
       "    </tr>\n",
       "    <tr>\n",
       "      <th>25%</th>\n",
       "      <td>1.400000</td>\n",
       "    </tr>\n",
       "    <tr>\n",
       "      <th>50%</th>\n",
       "      <td>1.450000</td>\n",
       "    </tr>\n",
       "    <tr>\n",
       "      <th>75%</th>\n",
       "      <td>1.500000</td>\n",
       "    </tr>\n",
       "    <tr>\n",
       "      <th>max</th>\n",
       "      <td>3.300000</td>\n",
       "    </tr>\n",
       "  </tbody>\n",
       "</table>\n",
       "</div>"
      ],
      "text/plain": [
       "          Level (m)\n",
       "count  78822.000000\n",
       "mean       1.453701\n",
       "std        0.113859\n",
       "min        0.000000\n",
       "25%        1.400000\n",
       "50%        1.450000\n",
       "75%        1.500000\n",
       "max        3.300000"
      ]
     },
     "execution_count": 14,
     "metadata": {},
     "output_type": "execute_result"
    }
   ],
   "source": [
    "df_river.describe()  "
   ]
  },
  {
   "cell_type": "code",
   "execution_count": 15,
   "metadata": {
    "colab": {
     "base_uri": "https://localhost:8080/",
     "height": 295
    },
    "executionInfo": {
     "elapsed": 631,
     "status": "ok",
     "timestamp": 1670145283543,
     "user": {
      "displayName": "Revanth",
      "userId": "11846981122706152895"
     },
     "user_tz": -330
    },
    "id": "tXxCzaEb9mL8",
    "outputId": "1b3f655d-0dda-4393-dd20-f5a7564cd7ce"
   },
   "outputs": [
    {
     "data": {
      "image/png": "[encoded data removed]",
      "text/plain": [
       "<Figure size 432x288 with 1 Axes>"
      ]
     },
     "metadata": {
      "needs_background": "light"
     },
     "output_type": "display_data"
    }
   ],
   "source": [
    "df_river.plot(x='Date/Time', y='Level (m)', style='o')  \n",
    "plt.title('River Level')  \n",
    "plt.xlabel('Date')  \n",
    "plt.ylabel('Max Level')  \n",
    "plt.show()  "
   ]
  },
  {
   "cell_type": "markdown",
   "metadata": {},
   "source": [
    "Here, rainfall data and river data both are merged together in one file"
   ]
  },
  {
   "cell_type": "code",
   "execution_count": 16,
   "metadata": {
    "colab": {
     "base_uri": "https://localhost:8080/",
     "height": 206
    },
    "executionInfo": {
     "elapsed": 665,
     "status": "ok",
     "timestamp": 1670145285619,
     "user": {
      "displayName": "Revanth",
      "userId": "11846981122706152895"
     },
     "user_tz": -330
    },
    "id": "9md9stLP9mMF",
    "outputId": "5e1c4314-b67d-42b8-bc4c-dd0560dd733a"
   },
   "outputs": [
    {
     "data": {
      "text/html": [
       "<div>\n",
       "<style scoped>\n",
       "    .dataframe tbody tr th:only-of-type {\n",
       "        vertical-align: middle;\n",
       "    }\n",
       "\n",
       "    .dataframe tbody tr th {\n",
       "        vertical-align: top;\n",
       "    }\n",
       "\n",
       "    .dataframe thead th {\n",
       "        text-align: right;\n",
       "    }\n",
       "</style>\n",
       "<table border=\"1\" class=\"dataframe\">\n",
       "  <thead>\n",
       "    <tr style=\"text-align: right;\">\n",
       "      <th></th>\n",
       "      <th>Date/Time</th>\n",
       "      <th>Current rainfall (mm)</th>\n",
       "      <th>Cumulative rainfall (mm)</th>\n",
       "      <th>Level (m)</th>\n",
       "    </tr>\n",
       "  </thead>\n",
       "  <tbody>\n",
       "    <tr>\n",
       "      <th>0</th>\n",
       "      <td>2018-12-02 18:00:00</td>\n",
       "      <td>0.0</td>\n",
       "      <td>0.0</td>\n",
       "      <td>NaN</td>\n",
       "    </tr>\n",
       "    <tr>\n",
       "      <th>1</th>\n",
       "      <td>2018-12-02 17:00:00</td>\n",
       "      <td>0.0</td>\n",
       "      <td>0.0</td>\n",
       "      <td>1.61</td>\n",
       "    </tr>\n",
       "    <tr>\n",
       "      <th>2</th>\n",
       "      <td>2018-12-02 16:00:00</td>\n",
       "      <td>0.0</td>\n",
       "      <td>0.0</td>\n",
       "      <td>1.61</td>\n",
       "    </tr>\n",
       "    <tr>\n",
       "      <th>3</th>\n",
       "      <td>2018-12-02 15:00:00</td>\n",
       "      <td>0.0</td>\n",
       "      <td>0.0</td>\n",
       "      <td>1.62</td>\n",
       "    </tr>\n",
       "    <tr>\n",
       "      <th>4</th>\n",
       "      <td>2018-12-02 14:00:00</td>\n",
       "      <td>0.0</td>\n",
       "      <td>0.0</td>\n",
       "      <td>1.63</td>\n",
       "    </tr>\n",
       "  </tbody>\n",
       "</table>\n",
       "</div>"
      ],
      "text/plain": [
       "             Date/Time  Current rainfall (mm)  Cumulative rainfall (mm)  \\\n",
       "0  2018-12-02 18:00:00                    0.0                       0.0   \n",
       "1  2018-12-02 17:00:00                    0.0                       0.0   \n",
       "2  2018-12-02 16:00:00                    0.0                       0.0   \n",
       "3  2018-12-02 15:00:00                    0.0                       0.0   \n",
       "4  2018-12-02 14:00:00                    0.0                       0.0   \n",
       "\n",
       "   Level (m)  \n",
       "0        NaN  \n",
       "1       1.61  \n",
       "2       1.61  \n",
       "3       1.62  \n",
       "4       1.63  "
      ]
     },
     "execution_count": 16,
     "metadata": {},
     "output_type": "execute_result"
    }
   ],
   "source": [
    "#df_river[\"Date/Time\"] = df_river[\"Date/Time\"].str.replace(\"00:00\", \"\")\n",
    "df = pd.merge(df_rain, df_river, how='outer', on=['Date/Time'])\n",
    "df.head()"
   ]
  },
  {
   "cell_type": "markdown",
   "metadata": {},
   "source": [
    "Here we plots points between cumulative rainfall and river water level"
   ]
  },
  {
   "cell_type": "code",
   "execution_count": 17,
   "metadata": {
    "colab": {
     "base_uri": "https://localhost:8080/",
     "height": 295
    },
    "executionInfo": {
     "elapsed": 451,
     "status": "ok",
     "timestamp": 1670145287853,
     "user": {
      "displayName": "Revanth",
      "userId": "11846981122706152895"
     },
     "user_tz": -330
    },
    "id": "Gk_xQsNl9mMT",
    "outputId": "8b275faf-e549-42c7-a410-fb0c12b33d65"
   },
   "outputs": [
    {
     "data": {
      "image/png": "[encoded data removed]",
      "text/plain": [
       "<Figure size 432x288 with 1 Axes>"
      ]
     },
     "metadata": {
      "needs_background": "light"
     },
     "output_type": "display_data"
    }
   ],
   "source": [
    "df.plot(x='Cumulative rainfall (mm)', y='Level (m)', style='o')  \n",
    "plt.title('River Level')  \n",
    "plt.xlabel('Rainfall')  \n",
    "plt.ylabel('Max Level')  \n",
    "plt.show()  "
   ]
  },
  {
   "cell_type": "code",
   "execution_count": 18,
   "metadata": {
    "colab": {
     "base_uri": "https://localhost:8080/",
     "height": 206
    },
    "executionInfo": {
     "elapsed": 6,
     "status": "ok",
     "timestamp": 1670145291694,
     "user": {
      "displayName": "Revanth",
      "userId": "11846981122706152895"
     },
     "user_tz": -330
    },
    "id": "dgzjOgQD9mMr",
    "outputId": "fd81893f-f1ed-42f6-d168-54fd4150a8f3"
   },
   "outputs": [
    {
     "data": {
      "text/html": [
       "<div>\n",
       "<style scoped>\n",
       "    .dataframe tbody tr th:only-of-type {\n",
       "        vertical-align: middle;\n",
       "    }\n",
       "\n",
       "    .dataframe tbody tr th {\n",
       "        vertical-align: top;\n",
       "    }\n",
       "\n",
       "    .dataframe thead th {\n",
       "        text-align: right;\n",
       "    }\n",
       "</style>\n",
       "<table border=\"1\" class=\"dataframe\">\n",
       "  <thead>\n",
       "    <tr style=\"text-align: right;\">\n",
       "      <th></th>\n",
       "      <th>Date/Time</th>\n",
       "      <th>Current rainfall (mm)</th>\n",
       "      <th>Cumulative rainfall (mm)</th>\n",
       "      <th>Level (m)</th>\n",
       "    </tr>\n",
       "  </thead>\n",
       "  <tbody>\n",
       "    <tr>\n",
       "      <th>0</th>\n",
       "      <td>2018-12-02 18:00:00</td>\n",
       "      <td>0.0</td>\n",
       "      <td>0.0</td>\n",
       "      <td>0.00</td>\n",
       "    </tr>\n",
       "    <tr>\n",
       "      <th>1</th>\n",
       "      <td>2018-12-02 17:00:00</td>\n",
       "      <td>0.0</td>\n",
       "      <td>0.0</td>\n",
       "      <td>1.61</td>\n",
       "    </tr>\n",
       "    <tr>\n",
       "      <th>2</th>\n",
       "      <td>2018-12-02 16:00:00</td>\n",
       "      <td>0.0</td>\n",
       "      <td>0.0</td>\n",
       "      <td>1.61</td>\n",
       "    </tr>\n",
       "    <tr>\n",
       "      <th>3</th>\n",
       "      <td>2018-12-02 15:00:00</td>\n",
       "      <td>0.0</td>\n",
       "      <td>0.0</td>\n",
       "      <td>1.62</td>\n",
       "    </tr>\n",
       "    <tr>\n",
       "      <th>4</th>\n",
       "      <td>2018-12-02 14:00:00</td>\n",
       "      <td>0.0</td>\n",
       "      <td>0.0</td>\n",
       "      <td>1.63</td>\n",
       "    </tr>\n",
       "  </tbody>\n",
       "</table>\n",
       "</div>"
      ],
      "text/plain": [
       "             Date/Time  Current rainfall (mm)  Cumulative rainfall (mm)  \\\n",
       "0  2018-12-02 18:00:00                    0.0                       0.0   \n",
       "1  2018-12-02 17:00:00                    0.0                       0.0   \n",
       "2  2018-12-02 16:00:00                    0.0                       0.0   \n",
       "3  2018-12-02 15:00:00                    0.0                       0.0   \n",
       "4  2018-12-02 14:00:00                    0.0                       0.0   \n",
       "\n",
       "   Level (m)  \n",
       "0       0.00  \n",
       "1       1.61  \n",
       "2       1.61  \n",
       "3       1.62  \n",
       "4       1.63  "
      ]
     },
     "execution_count": 18,
     "metadata": {},
     "output_type": "execute_result"
    }
   ],
   "source": [
    "df['Cumulative rainfall (mm)'] = df['Cumulative rainfall (mm)'].fillna(0)\n",
    "df['Level (m)'] = df['Level (m)'].fillna(0)\n",
    "\n",
    "df.head()"
   ]
  },
  {
   "cell_type": "markdown",
   "metadata": {},
   "source": [
    "Drop is one of the main functions used to cleanse data.We can drop specified labels from rows or columns by using drop()"
   ]
  },
  {
   "cell_type": "code",
   "execution_count": 19,
   "metadata": {
    "colab": {
     "base_uri": "https://localhost:8080/"
    },
    "executionInfo": {
     "elapsed": 648,
     "status": "ok",
     "timestamp": 1670145295690,
     "user": {
      "displayName": "Revanth",
      "userId": "11846981122706152895"
     },
     "user_tz": -330
    },
    "id": "JHIgQUds9mNm",
    "outputId": "f8e7e529-1bef-4d8a-8bfb-5ce3d4067923"
   },
   "outputs": [
    {
     "data": {
      "text/plain": [
       "(78850, 2)"
      ]
     },
     "execution_count": 19,
     "metadata": {},
     "output_type": "execute_result"
    }
   ],
   "source": [
    "df = df.drop(columns=['Current rainfall (mm)', 'Date/Time'])\n",
    "df.shape"
   ]
  },
  {
   "cell_type": "markdown",
   "metadata": {},
   "source": [
    "Python iloc() function enables us to select a particular cell of the dataset, that is, it helps us select a value that belongs to a particular row or column from a set of values of a data frame or dataset."
   ]
  },
  {
   "cell_type": "code",
   "execution_count": 20,
   "metadata": {
    "id": "TPB9PGbU9mOa"
   },
   "outputs": [],
   "source": [
    "X = df.iloc[:, :1].values\n",
    "y = df.iloc[:, 1:2].values"
   ]
  },
  {
   "cell_type": "code",
   "execution_count": 21,
   "metadata": {
    "colab": {
     "base_uri": "https://localhost:8080/"
    },
    "executionInfo": {
     "elapsed": 3,
     "status": "ok",
     "timestamp": 1670145309512,
     "user": {
      "displayName": "Revanth",
      "userId": "11846981122706152895"
     },
     "user_tz": -330
    },
    "id": "8LQ1GU499mOq",
    "outputId": "97536406-0107-4ad8-f1bb-fb16443cffb5"
   },
   "outputs": [
    {
     "name": "stdout",
     "output_type": "stream",
     "text": [
      "[[0. ]\n",
      " [0. ]\n",
      " [0. ]\n",
      " ...\n",
      " [0.2]\n",
      " [0.2]\n",
      " [0.2]]\n",
      "[[0.  ]\n",
      " [1.61]\n",
      " [1.61]\n",
      " ...\n",
      " [0.  ]\n",
      " [0.  ]\n",
      " [0.  ]]\n"
     ]
    }
   ],
   "source": [
    "print(X)\n",
    "print(y)"
   ]
  },
  {
   "cell_type": "markdown",
   "metadata": {},
   "source": [
    "SKLEARN : scikit-learn is an open-source Python library that implements a range of machine learning, pre-processing, cross-               validation, and visualization algorithms using a unified interface.\n",
    "\n",
    "The train_test_split function of the sklearn.model_selection package in Python splits arrays or matrices into random subsets for train and test data, respectively."
   ]
  },
  {
   "cell_type": "code",
   "execution_count": 22,
   "metadata": {
    "id": "0Y9HgpK-9mPI"
   },
   "outputs": [],
   "source": [
    "from sklearn.model_selection import train_test_split  \n",
    "X_train, X_test, y_train, y_test = train_test_split(X, y, test_size=0.2, random_state=0)  \n"
   ]
  },
  {
   "cell_type": "code",
   "execution_count": null,
   "metadata": {},
   "outputs": [],
   "source": []
  },
  {
   "cell_type": "markdown",
   "metadata": {},
   "source": []
  },
  {
   "cell_type": "code",
   "execution_count": 34,
   "metadata": {
    "colab": {
     "base_uri": "https://localhost:8080/"
    },
    "executionInfo": {
     "elapsed": 447,
     "status": "ok",
     "timestamp": 1670145316600,
     "user": {
      "displayName": "Revanth",
      "userId": "11846981122706152895"
     },
     "user_tz": -330
    },
    "id": "vaftm_IM9mPa",
    "outputId": "41c43e38-f539-4dfb-ccca-4541eace533e"
   },
   "outputs": [
    {
     "data": {
      "text/plain": [
       "LinearRegression()"
      ]
     },
     "execution_count": 34,
     "metadata": {},
     "output_type": "execute_result"
    }
   ],
   "source": [
    "from sklearn.linear_model import LinearRegression  \n",
    "regressor = LinearRegression()  \n",
    "regressor.fit(X_train, y_train)  "
   ]
  },
  {
   "cell_type": "code",
   "execution_count": null,
   "metadata": {},
   "outputs": [],
   "source": []
  },
  {
   "cell_type": "code",
   "execution_count": 35,
   "metadata": {},
   "outputs": [
    {
     "name": "stdout",
     "output_type": "stream",
     "text": [
      "Accuracy: 0.18271855243790103\n"
     ]
    }
   ],
   "source": [
    "# Assuming you have already trained the model and have X_test and y_test as your testing data\n",
    "\n",
    "# Use the trained model to make predictions on the testing data\n",
    "y_pred = regressor.predict(X_test)\n",
    "\n",
    "# Calculate the R² score for the model's predictions\n",
    "accuracy = regressor.score(X_test, y_test)\n",
    "\n",
    "# Print the accuracy\n",
    "print(\"Accuracy:\", accuracy)\n"
   ]
  },
  {
   "cell_type": "code",
   "execution_count": 38,
   "metadata": {},
   "outputs": [
    {
     "name": "stdout",
     "output_type": "stream",
     "text": [
      "R-squared score: 0.18271855243790103\n"
     ]
    }
   ],
   "source": [
    "from sklearn.metrics import r2_score\n",
    "\n",
    "# Assuming you have trained the LinearRegression model and obtained predictions\n",
    "y_pred = regressor.predict(X_test)\n",
    "\n",
    "# Calculate the R-squared score\n",
    "r2 = r2_score(y_test, y_pred)\n",
    "\n",
    "# Print the R-squared score\n",
    "print(\"R-squared score:\", r2)\n"
   ]
  },
  {
   "cell_type": "code",
   "execution_count": 39,
   "metadata": {},
   "outputs": [
    {
     "name": "stdout",
     "output_type": "stream",
     "text": [
      "Mean Squared Error (MSE): 0.010945894529122884\n",
      "Mean Absolute Error (MAE): 0.06291000110417022\n"
     ]
    }
   ],
   "source": [
    "from sklearn.metrics import mean_squared_error, mean_absolute_error\n",
    "\n",
    "mse = mean_squared_error(y_test, y_pred)\n",
    "mae = mean_absolute_error(y_test, y_pred)\n",
    "\n",
    "print(\"Mean Squared Error (MSE):\", mse)\n",
    "print(\"Mean Absolute Error (MAE):\", mae)\n"
   ]
  },
  {
   "cell_type": "markdown",
   "metadata": {},
   "source": [
    "If no errors are thrown - the regressor found the best fitting line! The line is defined by our features and the intercept/slope. In fact, we can inspect the intercept and slope by printing the regressor.intecept_ and regressor.coef_ attributes, respectively"
   ]
  },
  {
   "cell_type": "code",
   "execution_count": null,
   "metadata": {
    "colab": {
     "base_uri": "https://localhost:8080/"
    },
    "executionInfo": {
     "elapsed": 419,
     "status": "ok",
     "timestamp": 1670145318912,
     "user": {
      "displayName": "Revanth",
      "userId": "11846981122706152895"
     },
     "user_tz": -330
    },
    "id": "a2sxTwXO9mPh",
    "outputId": "9768ef96-5694-437b-9eb3-00c14ab7e6b6"
   },
   "outputs": [],
   "source": [
    "print(regressor.intercept_)"
   ]
  },
  {
   "cell_type": "code",
   "execution_count": null,
   "metadata": {
    "colab": {
     "base_uri": "https://localhost:8080/"
    },
    "executionInfo": {
     "elapsed": 7,
     "status": "ok",
     "timestamp": 1670145322216,
     "user": {
      "displayName": "Revanth",
      "userId": "11846981122706152895"
     },
     "user_tz": -330
    },
    "id": "IxWQIyoQ9mPp",
    "outputId": "c0f8ec18-6f1d-4de6-a470-7994bc0d9740"
   },
   "outputs": [],
   "source": [
    "print(regressor.coef_)  "
   ]
  },
  {
   "cell_type": "markdown",
   "metadata": {},
   "source": [
    "To make predictions on the test data, we pass the X_test values to the predict() method. We can assign the results to the variable y_pred:"
   ]
  },
  {
   "cell_type": "code",
   "execution_count": null,
   "metadata": {
    "id": "9gBnAR3t9mPz"
   },
   "outputs": [],
   "source": [
    "y_pred = regressor.predict(X_test) "
   ]
  },
  {
   "cell_type": "markdown",
   "metadata": {},
   "source": [
    " But can we trust those estimates? In the answer to that question is the reason why we split the data into train and test in the first place. Now we can predict using our test data and compare the predicted with our actual results - the ground truth results."
   ]
  },
  {
   "cell_type": "code",
   "execution_count": null,
   "metadata": {},
   "outputs": [],
   "source": [
    "df_preds = pd.DataFrame({'Actual': y_test.squeeze(), 'Predicted': y_pred.squeeze()})\n",
    "print(df_preds)"
   ]
  },
  {
   "cell_type": "code",
   "execution_count": null,
   "metadata": {},
   "outputs": [],
   "source": [
    "from sklearn.metrics import mean_absolute_error, mean_squared_error\n",
    "import numpy as np\n",
    "mae = mean_absolute_error(y_test, y_pred)\n",
    "mse = mean_squared_error(y_test, y_pred)\n",
    "rmse = np.sqrt(mse)"
   ]
  },
  {
   "cell_type": "markdown",
   "metadata": {},
   "source": [
    "All of our errors are low - and we're missing the actual value by 0.10 at most (lower or higher), which is a pretty small range considering the data we have."
   ]
  },
  {
   "cell_type": "code",
   "execution_count": null,
   "metadata": {},
   "outputs": [],
   "source": [
    "print(f'Mean absolute error: {mae:.2f}')\n",
    "print(f'Mean squared error: {mse:.2f}')\n",
    "print(f'Root mean squared error: {rmse:.2f}')"
   ]
  },
  {
   "cell_type": "code",
   "execution_count": null,
   "metadata": {
    "colab": {
     "base_uri": "https://localhost:8080/",
     "height": 295
    },
    "executionInfo": {
     "elapsed": 610,
     "status": "ok",
     "timestamp": 1670145327071,
     "user": {
      "displayName": "Revanth",
      "userId": "11846981122706152895"
     },
     "user_tz": -330
    },
    "id": "6Rif_vWj9mQH",
    "outputId": "6f92d76a-9ecf-4d25-ef61-acb1703450f1"
   },
   "outputs": [],
   "source": [
    "plt.scatter(X_train, y_train)\n",
    "plt.plot(X_train, regressor.predict(X_train), color = 'red')\n",
    "plt.title('Rainfall Vs River Level (Training set)')\n",
    "plt.xlabel('Rainfall')\n",
    "plt.ylabel('River Level')\n",
    "plt.show()"
   ]
  },
  {
   "cell_type": "code",
   "execution_count": null,
   "metadata": {
    "colab": {
     "base_uri": "https://localhost:8080/",
     "height": 295
    },
    "executionInfo": {
     "elapsed": 457,
     "status": "ok",
     "timestamp": 1670145331437,
     "user": {
      "displayName": "Revanth",
      "userId": "11846981122706152895"
     },
     "user_tz": -330
    },
    "id": "laWvto-a9mQV",
    "outputId": "b0e788d2-882a-4b3c-ce9e-70dda13556bb"
   },
   "outputs": [],
   "source": [
    "plt.scatter(X_test, y_test, color = 'red')\n",
    "plt.plot(X_train, regressor.predict(X_train), color = 'blue')\n",
    "plt.title('Rainfall Vs River Level (Testing set)')\n",
    "plt.xlabel('Rainfall')\n",
    "plt.ylabel('River Level')\n",
    "plt.show()"
   ]
  },
  {
   "cell_type": "markdown",
   "metadata": {},
   "source": []
  },
  {
   "cell_type": "code",
   "execution_count": null,
   "metadata": {
    "colab": {
     "base_uri": "https://localhost:8080/"
    },
    "executionInfo": {
     "elapsed": 5660,
     "status": "ok",
     "timestamp": 1670145440507,
     "user": {
      "displayName": "Revanth",
      "userId": "11846981122706152895"
     },
     "user_tz": -330
    },
    "id": "q32e28fo9mQa",
    "outputId": "2d8e61e7-4d1f-42bd-e33a-fe77fd101a24"
   },
   "outputs": [],
   "source": [
    "#@title Enter Rainfall amount in mm\n",
    "Rainfall_Amount = [[4.555]]\n",
    "\n"
   ]
  },
  {
   "cell_type": "code",
   "execution_count": null,
   "metadata": {
    "colab": {
     "base_uri": "https://localhost:8080/"
    },
    "executionInfo": {
     "elapsed": 441,
     "status": "ok",
     "timestamp": 1670145445602,
     "user": {
      "displayName": "Revanth",
      "userId": "11846981122706152895"
     },
     "user_tz": -330
    },
    "id": "vzfJfbjCAm7o",
    "outputId": "12066dee-36ba-4e84-9a89-154eb3aa2c82"
   },
   "outputs": [],
   "source": [
    "#@title Flood possibility\n",
    "predicted_riverlevel = regressor.predict(Rainfall_Amount)\n",
    "print(predicted_riverlevel)\n",
    "if (predicted_riverlevel > 1.5):\n",
    "  print(\"FLOOD\")\n",
    "else:\n",
    "  print(\"No FLOOD\")"
   ]
  }
 ],
 "metadata": {
  "colab": {
   "provenance": [
    {
     "file_id": "1npytCGgcy-hS9FR9nprVRNu6iW1B21N5",
     "timestamp": 1670145505432
    },
    {
     "file_id": "https://github.com/iudeen/Flood-Prediction/blob/master/Flood%20Prediction.ipynb",
     "timestamp": 1670104399502
    }
   ]
  },
  "kernelspec": {
   "display_name": "Python 3 (ipykernel)",
   "language": "python",
   "name": "python3"
  },
  "language_info": {
   "codemirror_mode": {
    "name": "ipython",
    "version": 3
   },
   "file_extension": ".py",
   "mimetype": "text/x-python",
   "name": "python",
   "nbconvert_exporter": "python",
   "pygments_lexer": "ipython3",
   "version": "3.9.12"
  }
 },
 "nbformat": 4,
 "nbformat_minor": 1
}
